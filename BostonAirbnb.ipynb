{
 "cells": [
  {
   "cell_type": "markdown",
   "metadata": {},
   "source": [
    "# Boston Airbnb"
   ]
  },
  {
   "cell_type": "markdown",
   "metadata": {},
   "source": [
    "**Since 2008, guests and hosts have used Airbnb to travel in a more unique, personalized way. As part of the Airbnb Inside initiative.The analysis provided here maily aid the answer of the below questions.**\n",
    "**1. When can you highly invest in Boston Airbnb?**\n",
    "**2. where can you highly invest in Boston Airbnb?**\n",
    "**3. How to gain best customer experience?**\n",
    "**4. What is highly affect the price?**\n"
   ]
  },
  {
   "cell_type": "code",
   "execution_count": 399,
   "metadata": {},
   "outputs": [],
   "source": [
    "#Do all the imports\n",
    "import pandas as pd\n",
    "import numpy as np\n",
    "import seaborn as sns\n",
    "import matplotlib.pyplot as plt\n",
    "%matplotlib inline\n",
    "from sklearn.linear_model import LinearRegression\n",
    "from sklearn.model_selection import train_test_split\n",
    "from sklearn.metrics import r2_score, mean_squared_error\n"
   ]
  },
  {
   "cell_type": "markdown",
   "metadata": {},
   "source": [
    "**The Boston Airbnb dataset \n",
    "Listings: including full descriptions and average review score \n",
    "Reviews:  including unique id for each reviewer and detailed comments \n",
    "Calendar: including listing id and the price and availability for that day**"
   ]
  },
  {
   "cell_type": "code",
   "execution_count": 400,
   "metadata": {},
   "outputs": [],
   "source": [
    "#Import the Boston Airbnb csv files\n",
    "\n",
    "df_calendar = pd.read_csv('calendar2019.csv')\n",
    "df_listings = pd.read_csv('listings2019.csv')\n",
    "df_reviews = pd.read_csv('reviews2019.csv')"
   ]
  },
  {
   "cell_type": "code",
   "execution_count": 401,
   "metadata": {},
   "outputs": [
    {
     "name": "stdout",
     "output_type": "stream",
     "text": [
      "df_reviews\n"
     ]
    },
    {
     "data": {
      "text/html": [
       "<div>\n",
       "<style scoped>\n",
       "    .dataframe tbody tr th:only-of-type {\n",
       "        vertical-align: middle;\n",
       "    }\n",
       "\n",
       "    .dataframe tbody tr th {\n",
       "        vertical-align: top;\n",
       "    }\n",
       "\n",
       "    .dataframe thead th {\n",
       "        text-align: right;\n",
       "    }\n",
       "</style>\n",
       "<table border=\"1\" class=\"dataframe\">\n",
       "  <thead>\n",
       "    <tr style=\"text-align: right;\">\n",
       "      <th></th>\n",
       "      <th>listing_id</th>\n",
       "      <th>id</th>\n",
       "      <th>date</th>\n",
       "      <th>reviewer_id</th>\n",
       "      <th>reviewer_name</th>\n",
       "      <th>comments</th>\n",
       "    </tr>\n",
       "  </thead>\n",
       "  <tbody>\n",
       "    <tr>\n",
       "      <th>0</th>\n",
       "      <td>3781</td>\n",
       "      <td>37776825</td>\n",
       "      <td>2015-07-10</td>\n",
       "      <td>36059247</td>\n",
       "      <td>Greg</td>\n",
       "      <td>The apartment was as advertised and Frank was ...</td>\n",
       "    </tr>\n",
       "    <tr>\n",
       "      <th>1</th>\n",
       "      <td>3781</td>\n",
       "      <td>41842494</td>\n",
       "      <td>2015-08-09</td>\n",
       "      <td>10459388</td>\n",
       "      <td>Tai</td>\n",
       "      <td>It was a pleasure to stay at Frank's place. Th...</td>\n",
       "    </tr>\n",
       "    <tr>\n",
       "      <th>2</th>\n",
       "      <td>3781</td>\n",
       "      <td>45282151</td>\n",
       "      <td>2015-09-01</td>\n",
       "      <td>12264652</td>\n",
       "      <td>Damien</td>\n",
       "      <td>The apartment description is entirely faithful...</td>\n",
       "    </tr>\n",
       "    <tr>\n",
       "      <th>3</th>\n",
       "      <td>3781</td>\n",
       "      <td>49022647</td>\n",
       "      <td>2015-09-30</td>\n",
       "      <td>41426327</td>\n",
       "      <td>Mike</td>\n",
       "      <td>Thoroughly enjoyed my time at Frank's home. Ha...</td>\n",
       "    </tr>\n",
       "    <tr>\n",
       "      <th>4</th>\n",
       "      <td>3781</td>\n",
       "      <td>52503327</td>\n",
       "      <td>2015-10-30</td>\n",
       "      <td>15151513</td>\n",
       "      <td>Ivan</td>\n",
       "      <td>Great value for the money! This location has e...</td>\n",
       "    </tr>\n",
       "  </tbody>\n",
       "</table>\n",
       "</div>"
      ],
      "text/plain": [
       "   listing_id        id        date  reviewer_id reviewer_name  \\\n",
       "0        3781  37776825  2015-07-10     36059247          Greg   \n",
       "1        3781  41842494  2015-08-09     10459388           Tai   \n",
       "2        3781  45282151  2015-09-01     12264652        Damien   \n",
       "3        3781  49022647  2015-09-30     41426327          Mike   \n",
       "4        3781  52503327  2015-10-30     15151513          Ivan   \n",
       "\n",
       "                                            comments  \n",
       "0  The apartment was as advertised and Frank was ...  \n",
       "1  It was a pleasure to stay at Frank's place. Th...  \n",
       "2  The apartment description is entirely faithful...  \n",
       "3  Thoroughly enjoyed my time at Frank's home. Ha...  \n",
       "4  Great value for the money! This location has e...  "
      ]
     },
     "execution_count": 401,
     "metadata": {},
     "output_type": "execute_result"
    }
   ],
   "source": [
    "#list head of the data to visulaize them\n",
    "print (\"df_reviews\")\n",
    "df_reviews.head()\n"
   ]
  },
  {
   "cell_type": "code",
   "execution_count": 402,
   "metadata": {},
   "outputs": [
    {
     "name": "stdout",
     "output_type": "stream",
     "text": [
      "df_calendar\n"
     ]
    },
    {
     "data": {
      "text/html": [
       "<div>\n",
       "<style scoped>\n",
       "    .dataframe tbody tr th:only-of-type {\n",
       "        vertical-align: middle;\n",
       "    }\n",
       "\n",
       "    .dataframe tbody tr th {\n",
       "        vertical-align: top;\n",
       "    }\n",
       "\n",
       "    .dataframe thead th {\n",
       "        text-align: right;\n",
       "    }\n",
       "</style>\n",
       "<table border=\"1\" class=\"dataframe\">\n",
       "  <thead>\n",
       "    <tr style=\"text-align: right;\">\n",
       "      <th></th>\n",
       "      <th>listing_id</th>\n",
       "      <th>date</th>\n",
       "      <th>available</th>\n",
       "      <th>price</th>\n",
       "      <th>adjusted_price</th>\n",
       "      <th>minimum_nights</th>\n",
       "      <th>maximum_nights</th>\n",
       "    </tr>\n",
       "  </thead>\n",
       "  <tbody>\n",
       "    <tr>\n",
       "      <th>0</th>\n",
       "      <td>3781</td>\n",
       "      <td>2019-07-14</td>\n",
       "      <td>f</td>\n",
       "      <td>$125.00</td>\n",
       "      <td>$125.00</td>\n",
       "      <td>30</td>\n",
       "      <td>1125</td>\n",
       "    </tr>\n",
       "    <tr>\n",
       "      <th>1</th>\n",
       "      <td>3781</td>\n",
       "      <td>2019-07-15</td>\n",
       "      <td>f</td>\n",
       "      <td>$125.00</td>\n",
       "      <td>$125.00</td>\n",
       "      <td>30</td>\n",
       "      <td>1125</td>\n",
       "    </tr>\n",
       "    <tr>\n",
       "      <th>2</th>\n",
       "      <td>3781</td>\n",
       "      <td>2019-07-16</td>\n",
       "      <td>f</td>\n",
       "      <td>$125.00</td>\n",
       "      <td>$125.00</td>\n",
       "      <td>30</td>\n",
       "      <td>1125</td>\n",
       "    </tr>\n",
       "    <tr>\n",
       "      <th>3</th>\n",
       "      <td>3781</td>\n",
       "      <td>2019-07-17</td>\n",
       "      <td>f</td>\n",
       "      <td>$125.00</td>\n",
       "      <td>$125.00</td>\n",
       "      <td>30</td>\n",
       "      <td>1125</td>\n",
       "    </tr>\n",
       "    <tr>\n",
       "      <th>4</th>\n",
       "      <td>3781</td>\n",
       "      <td>2019-07-18</td>\n",
       "      <td>f</td>\n",
       "      <td>$125.00</td>\n",
       "      <td>$125.00</td>\n",
       "      <td>30</td>\n",
       "      <td>1125</td>\n",
       "    </tr>\n",
       "  </tbody>\n",
       "</table>\n",
       "</div>"
      ],
      "text/plain": [
       "   listing_id        date available    price adjusted_price  minimum_nights  \\\n",
       "0        3781  2019-07-14         f  $125.00        $125.00              30   \n",
       "1        3781  2019-07-15         f  $125.00        $125.00              30   \n",
       "2        3781  2019-07-16         f  $125.00        $125.00              30   \n",
       "3        3781  2019-07-17         f  $125.00        $125.00              30   \n",
       "4        3781  2019-07-18         f  $125.00        $125.00              30   \n",
       "\n",
       "   maximum_nights  \n",
       "0            1125  \n",
       "1            1125  \n",
       "2            1125  \n",
       "3            1125  \n",
       "4            1125  "
      ]
     },
     "execution_count": 402,
     "metadata": {},
     "output_type": "execute_result"
    }
   ],
   "source": [
    "print (\"df_calendar\")\n",
    "df_calendar.head()\n"
   ]
  },
  {
   "cell_type": "code",
   "execution_count": 403,
   "metadata": {},
   "outputs": [
    {
     "name": "stdout",
     "output_type": "stream",
     "text": [
      "df_listings\n"
     ]
    },
    {
     "data": {
      "text/html": [
       "<div>\n",
       "<style scoped>\n",
       "    .dataframe tbody tr th:only-of-type {\n",
       "        vertical-align: middle;\n",
       "    }\n",
       "\n",
       "    .dataframe tbody tr th {\n",
       "        vertical-align: top;\n",
       "    }\n",
       "\n",
       "    .dataframe thead th {\n",
       "        text-align: right;\n",
       "    }\n",
       "</style>\n",
       "<table border=\"1\" class=\"dataframe\">\n",
       "  <thead>\n",
       "    <tr style=\"text-align: right;\">\n",
       "      <th></th>\n",
       "      <th>id</th>\n",
       "      <th>listing_url</th>\n",
       "      <th>scrape_id</th>\n",
       "      <th>last_scraped</th>\n",
       "      <th>name</th>\n",
       "      <th>summary</th>\n",
       "      <th>space</th>\n",
       "      <th>description</th>\n",
       "      <th>experiences_offered</th>\n",
       "      <th>neighborhood_overview</th>\n",
       "      <th>...</th>\n",
       "      <th>instant_bookable</th>\n",
       "      <th>is_business_travel_ready</th>\n",
       "      <th>cancellation_policy</th>\n",
       "      <th>require_guest_profile_picture</th>\n",
       "      <th>require_guest_phone_verification</th>\n",
       "      <th>calculated_host_listings_count</th>\n",
       "      <th>calculated_host_listings_count_entire_homes</th>\n",
       "      <th>calculated_host_listings_count_private_rooms</th>\n",
       "      <th>calculated_host_listings_count_shared_rooms</th>\n",
       "      <th>reviews_per_month</th>\n",
       "    </tr>\n",
       "  </thead>\n",
       "  <tbody>\n",
       "    <tr>\n",
       "      <th>0</th>\n",
       "      <td>3781</td>\n",
       "      <td>https://www.airbnb.com/rooms/3781</td>\n",
       "      <td>20190714024644</td>\n",
       "      <td>2019-07-14</td>\n",
       "      <td>HARBORSIDE-Walk to subway</td>\n",
       "      <td>Fully separate apartment in a two apartment bu...</td>\n",
       "      <td>This is a totally separate apartment located o...</td>\n",
       "      <td>Fully separate apartment in a two apartment bu...</td>\n",
       "      <td>none</td>\n",
       "      <td>Mostly quiet ( no loud music, no crowed sidewa...</td>\n",
       "      <td>...</td>\n",
       "      <td>f</td>\n",
       "      <td>f</td>\n",
       "      <td>super_strict_30</td>\n",
       "      <td>f</td>\n",
       "      <td>f</td>\n",
       "      <td>1</td>\n",
       "      <td>1</td>\n",
       "      <td>0</td>\n",
       "      <td>0</td>\n",
       "      <td>0.31</td>\n",
       "    </tr>\n",
       "    <tr>\n",
       "      <th>1</th>\n",
       "      <td>5506</td>\n",
       "      <td>https://www.airbnb.com/rooms/5506</td>\n",
       "      <td>20190714024644</td>\n",
       "      <td>2019-07-14</td>\n",
       "      <td>**$99 Special **   Private! Minutes to center!</td>\n",
       "      <td>This is a private guest room with private bath...</td>\n",
       "      <td>**THE BEST Value in BOSTON!!*** PRIVATE GUEST ...</td>\n",
       "      <td>This is a private guest room with private bath...</td>\n",
       "      <td>none</td>\n",
       "      <td>Peacful, Architecturally interesting, historic...</td>\n",
       "      <td>...</td>\n",
       "      <td>t</td>\n",
       "      <td>f</td>\n",
       "      <td>strict_14_with_grace_period</td>\n",
       "      <td>f</td>\n",
       "      <td>f</td>\n",
       "      <td>6</td>\n",
       "      <td>6</td>\n",
       "      <td>0</td>\n",
       "      <td>0</td>\n",
       "      <td>0.76</td>\n",
       "    </tr>\n",
       "    <tr>\n",
       "      <th>2</th>\n",
       "      <td>6695</td>\n",
       "      <td>https://www.airbnb.com/rooms/6695</td>\n",
       "      <td>20190714024644</td>\n",
       "      <td>2019-07-14</td>\n",
       "      <td>$99 Special!! Home Away! Condo</td>\n",
       "      <td>NaN</td>\n",
       "      <td>** WELCOME *** FULL PRIVATE APARTMENT In a His...</td>\n",
       "      <td>** WELCOME *** FULL PRIVATE APARTMENT In a His...</td>\n",
       "      <td>none</td>\n",
       "      <td>Peaceful, Architecturally interesting, histori...</td>\n",
       "      <td>...</td>\n",
       "      <td>t</td>\n",
       "      <td>f</td>\n",
       "      <td>strict_14_with_grace_period</td>\n",
       "      <td>f</td>\n",
       "      <td>f</td>\n",
       "      <td>6</td>\n",
       "      <td>6</td>\n",
       "      <td>0</td>\n",
       "      <td>0</td>\n",
       "      <td>0.84</td>\n",
       "    </tr>\n",
       "    <tr>\n",
       "      <th>3</th>\n",
       "      <td>6976</td>\n",
       "      <td>https://www.airbnb.com/rooms/6976</td>\n",
       "      <td>20190714024644</td>\n",
       "      <td>2019-07-14</td>\n",
       "      <td>Mexican Folk Art Showcase in Boston Neighborhood</td>\n",
       "      <td>Come stay with me in Boston's Roslindale neigh...</td>\n",
       "      <td>This is a well-maintained, two-family house bu...</td>\n",
       "      <td>Come stay with me in Boston's Roslindale neigh...</td>\n",
       "      <td>none</td>\n",
       "      <td>The LOCATION: Roslindale is a safe and diverse...</td>\n",
       "      <td>...</td>\n",
       "      <td>f</td>\n",
       "      <td>f</td>\n",
       "      <td>moderate</td>\n",
       "      <td>t</td>\n",
       "      <td>f</td>\n",
       "      <td>1</td>\n",
       "      <td>0</td>\n",
       "      <td>1</td>\n",
       "      <td>0</td>\n",
       "      <td>0.66</td>\n",
       "    </tr>\n",
       "    <tr>\n",
       "      <th>4</th>\n",
       "      <td>8789</td>\n",
       "      <td>https://www.airbnb.com/rooms/8789</td>\n",
       "      <td>20190714024644</td>\n",
       "      <td>2019-07-14</td>\n",
       "      <td>Curved Glass Studio/1bd facing Park</td>\n",
       "      <td>Bright, 1 bed with curved glass windows facing...</td>\n",
       "      <td>Fully Furnished studio with enclosed bedroom. ...</td>\n",
       "      <td>Bright, 1 bed with curved glass windows facing...</td>\n",
       "      <td>none</td>\n",
       "      <td>Beacon Hill is a historic neighborhood filled ...</td>\n",
       "      <td>...</td>\n",
       "      <td>f</td>\n",
       "      <td>f</td>\n",
       "      <td>strict_14_with_grace_period</td>\n",
       "      <td>f</td>\n",
       "      <td>f</td>\n",
       "      <td>10</td>\n",
       "      <td>10</td>\n",
       "      <td>0</td>\n",
       "      <td>0</td>\n",
       "      <td>0.38</td>\n",
       "    </tr>\n",
       "  </tbody>\n",
       "</table>\n",
       "<p>5 rows × 106 columns</p>\n",
       "</div>"
      ],
      "text/plain": [
       "     id                        listing_url       scrape_id last_scraped  \\\n",
       "0  3781  https://www.airbnb.com/rooms/3781  20190714024644   2019-07-14   \n",
       "1  5506  https://www.airbnb.com/rooms/5506  20190714024644   2019-07-14   \n",
       "2  6695  https://www.airbnb.com/rooms/6695  20190714024644   2019-07-14   \n",
       "3  6976  https://www.airbnb.com/rooms/6976  20190714024644   2019-07-14   \n",
       "4  8789  https://www.airbnb.com/rooms/8789  20190714024644   2019-07-14   \n",
       "\n",
       "                                               name  \\\n",
       "0                         HARBORSIDE-Walk to subway   \n",
       "1    **$99 Special **   Private! Minutes to center!   \n",
       "2                    $99 Special!! Home Away! Condo   \n",
       "3  Mexican Folk Art Showcase in Boston Neighborhood   \n",
       "4               Curved Glass Studio/1bd facing Park   \n",
       "\n",
       "                                             summary  \\\n",
       "0  Fully separate apartment in a two apartment bu...   \n",
       "1  This is a private guest room with private bath...   \n",
       "2                                                NaN   \n",
       "3  Come stay with me in Boston's Roslindale neigh...   \n",
       "4  Bright, 1 bed with curved glass windows facing...   \n",
       "\n",
       "                                               space  \\\n",
       "0  This is a totally separate apartment located o...   \n",
       "1  **THE BEST Value in BOSTON!!*** PRIVATE GUEST ...   \n",
       "2  ** WELCOME *** FULL PRIVATE APARTMENT In a His...   \n",
       "3  This is a well-maintained, two-family house bu...   \n",
       "4  Fully Furnished studio with enclosed bedroom. ...   \n",
       "\n",
       "                                         description experiences_offered  \\\n",
       "0  Fully separate apartment in a two apartment bu...                none   \n",
       "1  This is a private guest room with private bath...                none   \n",
       "2  ** WELCOME *** FULL PRIVATE APARTMENT In a His...                none   \n",
       "3  Come stay with me in Boston's Roslindale neigh...                none   \n",
       "4  Bright, 1 bed with curved glass windows facing...                none   \n",
       "\n",
       "                               neighborhood_overview  ... instant_bookable  \\\n",
       "0  Mostly quiet ( no loud music, no crowed sidewa...  ...                f   \n",
       "1  Peacful, Architecturally interesting, historic...  ...                t   \n",
       "2  Peaceful, Architecturally interesting, histori...  ...                t   \n",
       "3  The LOCATION: Roslindale is a safe and diverse...  ...                f   \n",
       "4  Beacon Hill is a historic neighborhood filled ...  ...                f   \n",
       "\n",
       "  is_business_travel_ready          cancellation_policy  \\\n",
       "0                        f              super_strict_30   \n",
       "1                        f  strict_14_with_grace_period   \n",
       "2                        f  strict_14_with_grace_period   \n",
       "3                        f                     moderate   \n",
       "4                        f  strict_14_with_grace_period   \n",
       "\n",
       "  require_guest_profile_picture require_guest_phone_verification  \\\n",
       "0                             f                                f   \n",
       "1                             f                                f   \n",
       "2                             f                                f   \n",
       "3                             t                                f   \n",
       "4                             f                                f   \n",
       "\n",
       "   calculated_host_listings_count  \\\n",
       "0                               1   \n",
       "1                               6   \n",
       "2                               6   \n",
       "3                               1   \n",
       "4                              10   \n",
       "\n",
       "   calculated_host_listings_count_entire_homes  \\\n",
       "0                                            1   \n",
       "1                                            6   \n",
       "2                                            6   \n",
       "3                                            0   \n",
       "4                                           10   \n",
       "\n",
       "  calculated_host_listings_count_private_rooms  \\\n",
       "0                                            0   \n",
       "1                                            0   \n",
       "2                                            0   \n",
       "3                                            1   \n",
       "4                                            0   \n",
       "\n",
       "   calculated_host_listings_count_shared_rooms  reviews_per_month  \n",
       "0                                            0               0.31  \n",
       "1                                            0               0.76  \n",
       "2                                            0               0.84  \n",
       "3                                            0               0.66  \n",
       "4                                            0               0.38  \n",
       "\n",
       "[5 rows x 106 columns]"
      ]
     },
     "execution_count": 403,
     "metadata": {},
     "output_type": "execute_result"
    }
   ],
   "source": [
    "print (\"df_listings\")\n",
    "df_listings.head()"
   ]
  },
  {
   "cell_type": "markdown",
   "metadata": {},
   "source": [
    "***eXPLORE THE DATA**"
   ]
  },
  {
   "cell_type": "markdown",
   "metadata": {},
   "source": [
    "# Review Data Set"
   ]
  },
  {
   "cell_type": "code",
   "execution_count": 404,
   "metadata": {},
   "outputs": [
    {
     "name": "stdout",
     "output_type": "stream",
     "text": [
      "This analysis based on 225751 reviews \n"
     ]
    }
   ],
   "source": [
    "#How many review?\n",
    "#Drop rows with Null in comment\n",
    "df_reviews = df_reviews.dropna(subset=['comments'],axis=0)\n",
    "print ('This analysis based on {} reviews ' .format(df_reviews.shape[0]))"
   ]
  },
  {
   "cell_type": "markdown",
   "metadata": {},
   "source": [
    "**1. When can you highly invest in Boston Airbnb?**"
   ]
  },
  {
   "cell_type": "code",
   "execution_count": 405,
   "metadata": {},
   "outputs": [
    {
     "data": {
      "text/plain": [
       "<matplotlib.axes._subplots.AxesSubplot at 0x1c5dc1cc4e0>"
      ]
     },
     "execution_count": 405,
     "metadata": {},
     "output_type": "execute_result"
    },
    {
     "data": {
      "image/png": "[encoded data removed]",
      "text/plain": [
       "<Figure size 1440x1440 with 1 Axes>"
      ]
     },
     "metadata": {
      "needs_background": "light"
     },
     "output_type": "display_data"
    }
   ],
   "source": [
    "df_reviews['year-month'] = pd.DatetimeIndex(df_reviews['date']).year.map(str) + \"-\" + pd.DatetimeIndex(df_reviews['date']).month.map(str)\n",
    "\n",
    "grouped = df_reviews.groupby('year-month')\n",
    "\n",
    "grouped_comments = pd.DataFrame(grouped['id'].count()).reset_index()\n",
    "\n",
    "grouped_comments.plot.bar(x='year-month',y='id',color='red',figsize=(20,20))\n",
    "\n"
   ]
  },
  {
   "cell_type": "markdown",
   "metadata": {},
   "source": [
    "**Its obvious along the years October is the bussiest month along the year**"
   ]
  },
  {
   "cell_type": "markdown",
   "metadata": {},
   "source": [
    "# Calender Data Set"
   ]
  },
  {
   "cell_type": "markdown",
   "metadata": {},
   "source": [
    "**As the occupation along the month is fluctuating so what about the price is it related ?\n",
    "Lets look at Calendar dataset**"
   ]
  },
  {
   "cell_type": "code",
   "execution_count": 406,
   "metadata": {},
   "outputs": [
    {
     "name": "stdout",
     "output_type": "stream",
     "text": [
      "df_calendar\n"
     ]
    },
    {
     "data": {
      "text/html": [
       "<div>\n",
       "<style scoped>\n",
       "    .dataframe tbody tr th:only-of-type {\n",
       "        vertical-align: middle;\n",
       "    }\n",
       "\n",
       "    .dataframe tbody tr th {\n",
       "        vertical-align: top;\n",
       "    }\n",
       "\n",
       "    .dataframe thead th {\n",
       "        text-align: right;\n",
       "    }\n",
       "</style>\n",
       "<table border=\"1\" class=\"dataframe\">\n",
       "  <thead>\n",
       "    <tr style=\"text-align: right;\">\n",
       "      <th></th>\n",
       "      <th>listing_id</th>\n",
       "      <th>date</th>\n",
       "      <th>available</th>\n",
       "      <th>price</th>\n",
       "      <th>adjusted_price</th>\n",
       "      <th>minimum_nights</th>\n",
       "      <th>maximum_nights</th>\n",
       "    </tr>\n",
       "  </thead>\n",
       "  <tbody>\n",
       "    <tr>\n",
       "      <th>0</th>\n",
       "      <td>3781</td>\n",
       "      <td>2019-07-14</td>\n",
       "      <td>f</td>\n",
       "      <td>$125.00</td>\n",
       "      <td>$125.00</td>\n",
       "      <td>30</td>\n",
       "      <td>1125</td>\n",
       "    </tr>\n",
       "    <tr>\n",
       "      <th>1</th>\n",
       "      <td>3781</td>\n",
       "      <td>2019-07-15</td>\n",
       "      <td>f</td>\n",
       "      <td>$125.00</td>\n",
       "      <td>$125.00</td>\n",
       "      <td>30</td>\n",
       "      <td>1125</td>\n",
       "    </tr>\n",
       "    <tr>\n",
       "      <th>2</th>\n",
       "      <td>3781</td>\n",
       "      <td>2019-07-16</td>\n",
       "      <td>f</td>\n",
       "      <td>$125.00</td>\n",
       "      <td>$125.00</td>\n",
       "      <td>30</td>\n",
       "      <td>1125</td>\n",
       "    </tr>\n",
       "    <tr>\n",
       "      <th>3</th>\n",
       "      <td>3781</td>\n",
       "      <td>2019-07-17</td>\n",
       "      <td>f</td>\n",
       "      <td>$125.00</td>\n",
       "      <td>$125.00</td>\n",
       "      <td>30</td>\n",
       "      <td>1125</td>\n",
       "    </tr>\n",
       "    <tr>\n",
       "      <th>4</th>\n",
       "      <td>3781</td>\n",
       "      <td>2019-07-18</td>\n",
       "      <td>f</td>\n",
       "      <td>$125.00</td>\n",
       "      <td>$125.00</td>\n",
       "      <td>30</td>\n",
       "      <td>1125</td>\n",
       "    </tr>\n",
       "  </tbody>\n",
       "</table>\n",
       "</div>"
      ],
      "text/plain": [
       "   listing_id        date available    price adjusted_price  minimum_nights  \\\n",
       "0        3781  2019-07-14         f  $125.00        $125.00              30   \n",
       "1        3781  2019-07-15         f  $125.00        $125.00              30   \n",
       "2        3781  2019-07-16         f  $125.00        $125.00              30   \n",
       "3        3781  2019-07-17         f  $125.00        $125.00              30   \n",
       "4        3781  2019-07-18         f  $125.00        $125.00              30   \n",
       "\n",
       "   maximum_nights  \n",
       "0            1125  \n",
       "1            1125  \n",
       "2            1125  \n",
       "3            1125  \n",
       "4            1125  "
      ]
     },
     "execution_count": 406,
     "metadata": {},
     "output_type": "execute_result"
    }
   ],
   "source": [
    "print (\"df_calendar\")\n",
    "df_calendar.head()\n"
   ]
  },
  {
   "cell_type": "code",
   "execution_count": 407,
   "metadata": {},
   "outputs": [
    {
     "name": "stdout",
     "output_type": "stream",
     "text": [
      "Number of available house is 4853\n"
     ]
    }
   ],
   "source": [
    "df_calendar = df_calendar[df_calendar['available']=='t']\n",
    "House_Count=df_calendar['listing_id'].nunique()\n",
    "print ('Number of available house is {}'.format(House_Count))\n"
   ]
  },
  {
   "cell_type": "code",
   "execution_count": 408,
   "metadata": {},
   "outputs": [
    {
     "data": {
      "text/plain": [
       "listing_id        0\n",
       "date              0\n",
       "available         0\n",
       "price             0\n",
       "adjusted_price    0\n",
       "minimum_nights    0\n",
       "maximum_nights    0\n",
       "dtype: int64"
      ]
     },
     "execution_count": 408,
     "metadata": {},
     "output_type": "execute_result"
    }
   ],
   "source": [
    "#check th null in the dataset\n",
    "df_calendar.isnull().sum(axis=0)"
   ]
  },
  {
   "cell_type": "code",
   "execution_count": 409,
   "metadata": {},
   "outputs": [
    {
     "data": {
      "text/plain": [
       "<matplotlib.axes._subplots.AxesSubplot at 0x1c61f75eac8>"
      ]
     },
     "execution_count": 409,
     "metadata": {},
     "output_type": "execute_result"
    },
    {
     "data": {
      "image/png": "[encoded data removed]",
      "text/plain": [
       "<Figure size 1440x720 with 1 Axes>"
      ]
     },
     "metadata": {
      "needs_background": "light"
     },
     "output_type": "display_data"
    }
   ],
   "source": [
    "df_calendar['year-month'] = pd.DatetimeIndex(df_calendar['date']).year.map(str) + \"-\" + pd.DatetimeIndex(df_calendar['date']).month.map(str)\n",
    "\n",
    "df_calendar['price']=df_calendar['price'].str.replace('$','')\n",
    "\n",
    "df_calendar['price']=df_calendar['price'].str.replace(',','')\n",
    "\n",
    "df_calendar['price'] = df_calendar['price'].astype(float)\n",
    "\n",
    "grouped_Calendar = df_calendar.groupby('year-month')\n",
    "\n",
    "\n",
    "grouped_Avg_Price = pd.DataFrame(grouped_Calendar['price'].mean()).reset_index()\n",
    "\n",
    "plt.rcParams.update({'font.size': 22})\n",
    "grouped_Avg_Price.plot.bar(x='year-month',y='price',color='blue',figsize=(20,10))"
   ]
  },
  {
   "cell_type": "code",
   "execution_count": 410,
   "metadata": {},
   "outputs": [
    {
     "name": "stdout",
     "output_type": "stream",
     "text": [
      "The Price listing covers the duration from 2019-07-14 to 2020-07-12\n"
     ]
    }
   ],
   "source": [
    "print(\"The Price listing covers the duration from {} to {}\".format(df_calendar['date'].min(),\n",
    "                                                                df_calendar['date'].max()))"
   ]
  },
  {
   "cell_type": "markdown",
   "metadata": {},
   "source": [
    "**Listing Price covers 4,853 available house in the duration from 14 July 2017 to 12 July 2020 \n",
    "From the above Price distribution we noticed that the price reach its max along the listed part of the year (July 2019-Dec 2019) in Oct and the minimum price was in Dec.\n",
    "In the first half of the year (2020 covered) the highest price in May and the lowest in Jan and Feb\n",
    "Hence if you look to the combined figure of the Price listing and the occupation distribution we can find that they are directly propotional**"
   ]
  },
  {
   "cell_type": "markdown",
   "metadata": {},
   "source": [
    "# df_listing"
   ]
  },
  {
   "cell_type": "markdown",
   "metadata": {},
   "source": [
    "Lets clean df_listing and choose selective feature to make it easier"
   ]
  },
  {
   "cell_type": "code",
   "execution_count": 411,
   "metadata": {},
   "outputs": [
    {
     "data": {
      "text/html": [
       "<div>\n",
       "<style scoped>\n",
       "    .dataframe tbody tr th:only-of-type {\n",
       "        vertical-align: middle;\n",
       "    }\n",
       "\n",
       "    .dataframe tbody tr th {\n",
       "        vertical-align: top;\n",
       "    }\n",
       "\n",
       "    .dataframe thead th {\n",
       "        text-align: right;\n",
       "    }\n",
       "</style>\n",
       "<table border=\"1\" class=\"dataframe\">\n",
       "  <thead>\n",
       "    <tr style=\"text-align: right;\">\n",
       "      <th></th>\n",
       "      <th>id</th>\n",
       "      <th>listing_url</th>\n",
       "      <th>scrape_id</th>\n",
       "      <th>last_scraped</th>\n",
       "      <th>name</th>\n",
       "      <th>summary</th>\n",
       "      <th>space</th>\n",
       "      <th>description</th>\n",
       "      <th>experiences_offered</th>\n",
       "      <th>neighborhood_overview</th>\n",
       "      <th>...</th>\n",
       "      <th>instant_bookable</th>\n",
       "      <th>is_business_travel_ready</th>\n",
       "      <th>cancellation_policy</th>\n",
       "      <th>require_guest_profile_picture</th>\n",
       "      <th>require_guest_phone_verification</th>\n",
       "      <th>calculated_host_listings_count</th>\n",
       "      <th>calculated_host_listings_count_entire_homes</th>\n",
       "      <th>calculated_host_listings_count_private_rooms</th>\n",
       "      <th>calculated_host_listings_count_shared_rooms</th>\n",
       "      <th>reviews_per_month</th>\n",
       "    </tr>\n",
       "  </thead>\n",
       "  <tbody>\n",
       "    <tr>\n",
       "      <th>0</th>\n",
       "      <td>3781</td>\n",
       "      <td>https://www.airbnb.com/rooms/3781</td>\n",
       "      <td>20190714024644</td>\n",
       "      <td>2019-07-14</td>\n",
       "      <td>HARBORSIDE-Walk to subway</td>\n",
       "      <td>Fully separate apartment in a two apartment bu...</td>\n",
       "      <td>This is a totally separate apartment located o...</td>\n",
       "      <td>Fully separate apartment in a two apartment bu...</td>\n",
       "      <td>none</td>\n",
       "      <td>Mostly quiet ( no loud music, no crowed sidewa...</td>\n",
       "      <td>...</td>\n",
       "      <td>f</td>\n",
       "      <td>f</td>\n",
       "      <td>super_strict_30</td>\n",
       "      <td>f</td>\n",
       "      <td>f</td>\n",
       "      <td>1</td>\n",
       "      <td>1</td>\n",
       "      <td>0</td>\n",
       "      <td>0</td>\n",
       "      <td>0.31</td>\n",
       "    </tr>\n",
       "    <tr>\n",
       "      <th>1</th>\n",
       "      <td>5506</td>\n",
       "      <td>https://www.airbnb.com/rooms/5506</td>\n",
       "      <td>20190714024644</td>\n",
       "      <td>2019-07-14</td>\n",
       "      <td>**$99 Special **   Private! Minutes to center!</td>\n",
       "      <td>This is a private guest room with private bath...</td>\n",
       "      <td>**THE BEST Value in BOSTON!!*** PRIVATE GUEST ...</td>\n",
       "      <td>This is a private guest room with private bath...</td>\n",
       "      <td>none</td>\n",
       "      <td>Peacful, Architecturally interesting, historic...</td>\n",
       "      <td>...</td>\n",
       "      <td>t</td>\n",
       "      <td>f</td>\n",
       "      <td>strict_14_with_grace_period</td>\n",
       "      <td>f</td>\n",
       "      <td>f</td>\n",
       "      <td>6</td>\n",
       "      <td>6</td>\n",
       "      <td>0</td>\n",
       "      <td>0</td>\n",
       "      <td>0.76</td>\n",
       "    </tr>\n",
       "  </tbody>\n",
       "</table>\n",
       "<p>2 rows × 106 columns</p>\n",
       "</div>"
      ],
      "text/plain": [
       "     id                        listing_url       scrape_id last_scraped  \\\n",
       "0  3781  https://www.airbnb.com/rooms/3781  20190714024644   2019-07-14   \n",
       "1  5506  https://www.airbnb.com/rooms/5506  20190714024644   2019-07-14   \n",
       "\n",
       "                                             name  \\\n",
       "0                       HARBORSIDE-Walk to subway   \n",
       "1  **$99 Special **   Private! Minutes to center!   \n",
       "\n",
       "                                             summary  \\\n",
       "0  Fully separate apartment in a two apartment bu...   \n",
       "1  This is a private guest room with private bath...   \n",
       "\n",
       "                                               space  \\\n",
       "0  This is a totally separate apartment located o...   \n",
       "1  **THE BEST Value in BOSTON!!*** PRIVATE GUEST ...   \n",
       "\n",
       "                                         description experiences_offered  \\\n",
       "0  Fully separate apartment in a two apartment bu...                none   \n",
       "1  This is a private guest room with private bath...                none   \n",
       "\n",
       "                               neighborhood_overview  ... instant_bookable  \\\n",
       "0  Mostly quiet ( no loud music, no crowed sidewa...  ...                f   \n",
       "1  Peacful, Architecturally interesting, historic...  ...                t   \n",
       "\n",
       "  is_business_travel_ready          cancellation_policy  \\\n",
       "0                        f              super_strict_30   \n",
       "1                        f  strict_14_with_grace_period   \n",
       "\n",
       "  require_guest_profile_picture require_guest_phone_verification  \\\n",
       "0                             f                                f   \n",
       "1                             f                                f   \n",
       "\n",
       "   calculated_host_listings_count  \\\n",
       "0                               1   \n",
       "1                               6   \n",
       "\n",
       "   calculated_host_listings_count_entire_homes  \\\n",
       "0                                            1   \n",
       "1                                            6   \n",
       "\n",
       "  calculated_host_listings_count_private_rooms  \\\n",
       "0                                            0   \n",
       "1                                            0   \n",
       "\n",
       "   calculated_host_listings_count_shared_rooms  reviews_per_month  \n",
       "0                                            0               0.31  \n",
       "1                                            0               0.76  \n",
       "\n",
       "[2 rows x 106 columns]"
      ]
     },
     "execution_count": 411,
     "metadata": {},
     "output_type": "execute_result"
    }
   ],
   "source": [
    "pd.options.display.max_seq_items = 2000\n",
    "df_listings.head(2)"
   ]
  },
  {
   "cell_type": "code",
   "execution_count": 412,
   "metadata": {},
   "outputs": [
    {
     "data": {
      "text/html": [
       "<div>\n",
       "<style scoped>\n",
       "    .dataframe tbody tr th:only-of-type {\n",
       "        vertical-align: middle;\n",
       "    }\n",
       "\n",
       "    .dataframe tbody tr th {\n",
       "        vertical-align: top;\n",
       "    }\n",
       "\n",
       "    .dataframe thead th {\n",
       "        text-align: right;\n",
       "    }\n",
       "</style>\n",
       "<table border=\"1\" class=\"dataframe\">\n",
       "  <thead>\n",
       "    <tr style=\"text-align: right;\">\n",
       "      <th></th>\n",
       "      <th>review_scores_rating</th>\n",
       "      <th>number_of_reviews</th>\n",
       "      <th>price</th>\n",
       "      <th>neighbourhood_cleansed</th>\n",
       "      <th>property_type</th>\n",
       "      <th>room_type</th>\n",
       "      <th>accommodates</th>\n",
       "      <th>bathrooms</th>\n",
       "      <th>bedrooms</th>\n",
       "      <th>beds</th>\n",
       "      <th>review_scores_accuracy</th>\n",
       "      <th>review_scores_cleanliness</th>\n",
       "      <th>review_scores_checkin</th>\n",
       "      <th>review_scores_communication</th>\n",
       "      <th>review_scores_location</th>\n",
       "      <th>review_scores_value</th>\n",
       "    </tr>\n",
       "  </thead>\n",
       "  <tbody>\n",
       "    <tr>\n",
       "      <th>0</th>\n",
       "      <td>99.0</td>\n",
       "      <td>15</td>\n",
       "      <td>$125.00</td>\n",
       "      <td>East Boston</td>\n",
       "      <td>Apartment</td>\n",
       "      <td>Entire home/apt</td>\n",
       "      <td>2</td>\n",
       "      <td>1.0</td>\n",
       "      <td>1.0</td>\n",
       "      <td>1</td>\n",
       "      <td>10.0</td>\n",
       "      <td>10.0</td>\n",
       "      <td>10.0</td>\n",
       "      <td>10.0</td>\n",
       "      <td>10.0</td>\n",
       "      <td>10.0</td>\n",
       "    </tr>\n",
       "    <tr>\n",
       "      <th>1</th>\n",
       "      <td>95.0</td>\n",
       "      <td>95</td>\n",
       "      <td>$145.00</td>\n",
       "      <td>Roxbury</td>\n",
       "      <td>Guest suite</td>\n",
       "      <td>Entire home/apt</td>\n",
       "      <td>2</td>\n",
       "      <td>1.0</td>\n",
       "      <td>1.0</td>\n",
       "      <td>1</td>\n",
       "      <td>10.0</td>\n",
       "      <td>10.0</td>\n",
       "      <td>10.0</td>\n",
       "      <td>10.0</td>\n",
       "      <td>9.0</td>\n",
       "      <td>10.0</td>\n",
       "    </tr>\n",
       "    <tr>\n",
       "      <th>2</th>\n",
       "      <td>96.0</td>\n",
       "      <td>102</td>\n",
       "      <td>$169.00</td>\n",
       "      <td>Roxbury</td>\n",
       "      <td>Condominium</td>\n",
       "      <td>Entire home/apt</td>\n",
       "      <td>4</td>\n",
       "      <td>1.0</td>\n",
       "      <td>1.0</td>\n",
       "      <td>2</td>\n",
       "      <td>10.0</td>\n",
       "      <td>10.0</td>\n",
       "      <td>10.0</td>\n",
       "      <td>10.0</td>\n",
       "      <td>9.0</td>\n",
       "      <td>10.0</td>\n",
       "    </tr>\n",
       "    <tr>\n",
       "      <th>3</th>\n",
       "      <td>98.0</td>\n",
       "      <td>80</td>\n",
       "      <td>$65.00</td>\n",
       "      <td>Roslindale</td>\n",
       "      <td>Apartment</td>\n",
       "      <td>Private room</td>\n",
       "      <td>2</td>\n",
       "      <td>1.0</td>\n",
       "      <td>1.0</td>\n",
       "      <td>1</td>\n",
       "      <td>10.0</td>\n",
       "      <td>10.0</td>\n",
       "      <td>10.0</td>\n",
       "      <td>10.0</td>\n",
       "      <td>9.0</td>\n",
       "      <td>10.0</td>\n",
       "    </tr>\n",
       "    <tr>\n",
       "      <th>4</th>\n",
       "      <td>92.0</td>\n",
       "      <td>23</td>\n",
       "      <td>$99.00</td>\n",
       "      <td>Downtown</td>\n",
       "      <td>Apartment</td>\n",
       "      <td>Entire home/apt</td>\n",
       "      <td>2</td>\n",
       "      <td>1.0</td>\n",
       "      <td>1.0</td>\n",
       "      <td>1</td>\n",
       "      <td>9.0</td>\n",
       "      <td>9.0</td>\n",
       "      <td>10.0</td>\n",
       "      <td>10.0</td>\n",
       "      <td>10.0</td>\n",
       "      <td>9.0</td>\n",
       "    </tr>\n",
       "  </tbody>\n",
       "</table>\n",
       "</div>"
      ],
      "text/plain": [
       "   review_scores_rating  number_of_reviews    price neighbourhood_cleansed  \\\n",
       "0                  99.0                 15  $125.00            East Boston   \n",
       "1                  95.0                 95  $145.00                Roxbury   \n",
       "2                  96.0                102  $169.00                Roxbury   \n",
       "3                  98.0                 80   $65.00             Roslindale   \n",
       "4                  92.0                 23   $99.00               Downtown   \n",
       "\n",
       "  property_type        room_type  accommodates  bathrooms  bedrooms  beds  \\\n",
       "0     Apartment  Entire home/apt             2        1.0       1.0     1   \n",
       "1   Guest suite  Entire home/apt             2        1.0       1.0     1   \n",
       "2   Condominium  Entire home/apt             4        1.0       1.0     2   \n",
       "3     Apartment     Private room             2        1.0       1.0     1   \n",
       "4     Apartment  Entire home/apt             2        1.0       1.0     1   \n",
       "\n",
       "   review_scores_accuracy  review_scores_cleanliness  review_scores_checkin  \\\n",
       "0                    10.0                       10.0                   10.0   \n",
       "1                    10.0                       10.0                   10.0   \n",
       "2                    10.0                       10.0                   10.0   \n",
       "3                    10.0                       10.0                   10.0   \n",
       "4                     9.0                        9.0                   10.0   \n",
       "\n",
       "   review_scores_communication  review_scores_location  review_scores_value  \n",
       "0                         10.0                    10.0                 10.0  \n",
       "1                         10.0                     9.0                 10.0  \n",
       "2                         10.0                     9.0                 10.0  \n",
       "3                         10.0                     9.0                 10.0  \n",
       "4                         10.0                    10.0                  9.0  "
      ]
     },
     "execution_count": 412,
     "metadata": {},
     "output_type": "execute_result"
    }
   ],
   "source": [
    "#Afer the data been scanned we need to focus on reviews/Apartement Type / Price \n",
    "\n",
    "\n",
    "#Split the features\n",
    "layout_Features=['accommodates','bathrooms','bedrooms','beds']\n",
    "review_Features=['review_scores_rating','number_of_reviews','review_scores_accuracy','review_scores_cleanliness','review_scores_checkin','review_scores_communication','review_scores_location','review_scores_value']\n",
    "Object_Features=['neighbourhood_cleansed', 'property_type']\n",
    "All_Selective_Features=['review_scores_rating','number_of_reviews','price','neighbourhood_cleansed', 'property_type', 'room_type','accommodates','bathrooms','bedrooms','beds','review_scores_accuracy','review_scores_cleanliness','review_scores_checkin','review_scores_communication','review_scores_location','review_scores_value']\n",
    "\n",
    "df_listings = df_listings[All_Selective_Features]\n",
    "df_listings.head()"
   ]
  },
  {
   "cell_type": "markdown",
   "metadata": {},
   "source": [
    "**Where can you do your investemet?"
   ]
  },
  {
   "cell_type": "code",
   "execution_count": 421,
   "metadata": {},
   "outputs": [
    {
     "data": {
      "text/plain": [
       "<matplotlib.axes._subplots.AxesSubplot at 0x1c61f38d978>"
      ]
     },
     "execution_count": 421,
     "metadata": {},
     "output_type": "execute_result"
    },
    {
     "data": {
      "image/png": "[encoded data removed]",
      "text/plain": [
       "<Figure size 1440x720 with 1 Axes>"
      ]
     },
     "metadata": {
      "needs_background": "light"
     },
     "output_type": "display_data"
    }
   ],
   "source": [
    "plt.rcParams.update({'font.size': 15})\n",
    "pd.DataFrame(df_listings['neighbourhood_cleansed'].value_counts()[0:10]/df_listings.shape[0]).plot.bar(figsize=(20,10))"
   ]
  },
  {
   "cell_type": "code",
   "execution_count": 422,
   "metadata": {},
   "outputs": [],
   "source": [
    "#Price reformatting\n",
    "df_listings['price'] = df_listings['price'].str.replace('$','')\n",
    "df_listings['price'] = df_listings['price'].str.replace(',','')\n",
    "df_listings['price'] = df_listings['price'].astype(float)\n",
    "\n",
    "# drop the rows if any review scores rating is null\n",
    "df_listings = df_listings.dropna(subset=['price'],axis=0)\n",
    "\n",
    "\n",
    "\n",
    "# the format price column\n",
    "num_vars = df_listings.select_dtypes(include=['int', 'float']).columns\n",
    "for col in num_vars:\n",
    "    df_listings[col].fillna((df_listings[col].mean()), inplace=True)\n",
    "    \n",
    "#Dummy Variables for objects\n",
    "cat_vars = df_listings.select_dtypes(include=['object']).columns\n",
    "for var in cat_vars:\n",
    "    df_listings = pd.concat([df_listings.drop([var], axis=1), pd.get_dummies(df_listings[var], drop_first=True)], axis=1)\n",
    "\n"
   ]
  },
  {
   "cell_type": "code",
   "execution_count": 423,
   "metadata": {},
   "outputs": [
    {
     "data": {
      "text/plain": [
       "review_scores_rating           0\n",
       "number_of_reviews              0\n",
       "price                          0\n",
       "accommodates                   0\n",
       "bathrooms                      0\n",
       "bedrooms                       0\n",
       "beds                           0\n",
       "review_scores_accuracy         0\n",
       "review_scores_cleanliness      0\n",
       "review_scores_checkin          0\n",
       "review_scores_communication    0\n",
       "review_scores_location         0\n",
       "review_scores_value            0\n",
       "Back Bay                       0\n",
       "Bay Village                    0\n",
       "Beacon Hill                    0\n",
       "Brighton                       0\n",
       "Charlestown                    0\n",
       "Chinatown                      0\n",
       "Dorchester                     0\n",
       "Downtown                       0\n",
       "East Boston                    0\n",
       "Fenway                         0\n",
       "Hyde Park                      0\n",
       "Jamaica Plain                  0\n",
       "Leather District               0\n",
       "Longwood Medical Area          0\n",
       "Mattapan                       0\n",
       "Mission Hill                   0\n",
       "North End                      0\n",
       "                              ..\n",
       "Roxbury                        0\n",
       "South Boston                   0\n",
       "South Boston Waterfront        0\n",
       "South End                      0\n",
       "West End                       0\n",
       "West Roxbury                   0\n",
       "Apartment                      0\n",
       "Barn                           0\n",
       "Bed and breakfast              0\n",
       "Boat                           0\n",
       "Boutique hotel                 0\n",
       "Bungalow                       0\n",
       "Casa particular (Cuba)         0\n",
       "Condominium                    0\n",
       "Cottage                        0\n",
       "Farm stay                      0\n",
       "Guest suite                    0\n",
       "Guesthouse                     0\n",
       "Hostel                         0\n",
       "Hotel                          0\n",
       "House                          0\n",
       "Houseboat                      0\n",
       "Loft                           0\n",
       "Other                          0\n",
       "Resort                         0\n",
       "Serviced apartment             0\n",
       "Townhouse                      0\n",
       "Villa                          0\n",
       "Private room                   0\n",
       "Shared room                    0\n",
       "Length: 61, dtype: int64"
      ]
     },
     "execution_count": 423,
     "metadata": {},
     "output_type": "execute_result"
    }
   ],
   "source": [
    "df_listings.isnull().sum(axis=0)"
   ]
  },
  {
   "cell_type": "code",
   "execution_count": 424,
   "metadata": {},
   "outputs": [
    {
     "name": "stdout",
     "output_type": "stream",
     "text": [
      "The price of the listed houses varies from 10000.0 given that the average price is 199.06369731800766\n"
     ]
    }
   ],
   "source": [
    "MaxPrice=df_listings['price'].max()\n",
    "Avgprice=df_listings['price'].mean()\n",
    "\n",
    "print ('The price of the listed houses varies from {} given that the average price is {}'.format(MaxPrice,Avgprice))"
   ]
  },
  {
   "cell_type": "code",
   "execution_count": 425,
   "metadata": {},
   "outputs": [
    {
     "data": {
      "text/plain": [
       "Text(0.5, 0, 'price')"
      ]
     },
     "execution_count": 425,
     "metadata": {},
     "output_type": "execute_result"
    },
    {
     "data": {
      "image/png": "[encoded data removed]",
      "text/plain": [
       "<Figure size 432x288 with 1 Axes>"
      ]
     },
     "metadata": {
      "needs_background": "light"
     },
     "output_type": "display_data"
    }
   ],
   "source": [
    "df_listings['price'].hist(bins=50)\n",
    "plt.title('Price Airbnb')\n",
    "plt.xlabel('price')\n"
   ]
  },
  {
   "cell_type": "code",
   "execution_count": 426,
   "metadata": {},
   "outputs": [
    {
     "data": {
      "text/plain": [
       "<matplotlib.axes._subplots.AxesSubplot at 0x1c61f2ea8d0>"
      ]
     },
     "execution_count": 426,
     "metadata": {},
     "output_type": "execute_result"
    },
    {
     "data": {
      "image/png": "[encoded data removed]",
      "text/plain": [
       "<Figure size 432x288 with 1 Axes>"
      ]
     },
     "metadata": {
      "needs_background": "light"
     },
     "output_type": "display_data"
    }
   ],
   "source": [
    "df_listings['number_of_reviews'].max()\n",
    "df_listings['number_of_reviews'].hist(bins=50)"
   ]
  },
  {
   "cell_type": "markdown",
   "metadata": {},
   "source": [
    "# Build The model"
   ]
  },
  {
   "cell_type": "code",
   "execution_count": 432,
   "metadata": {},
   "outputs": [
    {
     "data": {
      "text/plain": [
       "'The r-squared score for your model was 0.22035839310638017 on 1880 values.'"
      ]
     },
     "execution_count": 432,
     "metadata": {},
     "output_type": "execute_result"
    }
   ],
   "source": [
    "\n",
    "#Split into train and test\n",
    "df_loc_property=df_listings.drop(review_Features,axis=1).drop(layout_Features,axis=1)\n",
    "X=df_loc_property.drop('price',axis=1)\n",
    "\n",
    "Y=df_listings['price']\n",
    "\n",
    "X_train, X_test, Y_train, Y_test = train_test_split(X, Y, test_size = .3, random_state=42) \n",
    "\n",
    "Boston_model = LinearRegression(normalize=True) # Instantiate\n",
    "Boston_model.fit(X_train, Y_train) #Fit\n",
    "        \n",
    "#Predict and score the model\n",
    "Boston_model_Y_preds = Boston_model.predict(X_test) \n",
    "\"The r-squared score for your model was {} on {} values.\".format(r2_score(Y_test, Boston_model_Y_preds), len(Y_test))"
   ]
  },
  {
   "cell_type": "markdown",
   "metadata": {},
   "source": [
    "**What is the factor that highly impacted the price?**"
   ]
  },
  {
   "cell_type": "code",
   "execution_count": 433,
   "metadata": {},
   "outputs": [
    {
     "data": {
      "text/html": [
       "<div>\n",
       "<style scoped>\n",
       "    .dataframe tbody tr th:only-of-type {\n",
       "        vertical-align: middle;\n",
       "    }\n",
       "\n",
       "    .dataframe tbody tr th {\n",
       "        vertical-align: top;\n",
       "    }\n",
       "\n",
       "    .dataframe thead th {\n",
       "        text-align: right;\n",
       "    }\n",
       "</style>\n",
       "<table border=\"1\" class=\"dataframe\">\n",
       "  <thead>\n",
       "    <tr style=\"text-align: right;\">\n",
       "      <th></th>\n",
       "      <th>feature</th>\n",
       "      <th>abs_coeff</th>\n",
       "      <th>coeff</th>\n",
       "    </tr>\n",
       "  </thead>\n",
       "  <tbody>\n",
       "    <tr>\n",
       "      <th>28</th>\n",
       "      <td>Boutique hotel</td>\n",
       "      <td>2781.403241</td>\n",
       "      <td>2781.403241</td>\n",
       "    </tr>\n",
       "    <tr>\n",
       "      <th>12</th>\n",
       "      <td>Leather District</td>\n",
       "      <td>1192.152054</td>\n",
       "      <td>1192.152054</td>\n",
       "    </tr>\n",
       "    <tr>\n",
       "      <th>33</th>\n",
       "      <td>Farm stay</td>\n",
       "      <td>250.000000</td>\n",
       "      <td>250.000000</td>\n",
       "    </tr>\n",
       "    <tr>\n",
       "      <th>47</th>\n",
       "      <td>Shared room</td>\n",
       "      <td>195.509190</td>\n",
       "      <td>-195.509190</td>\n",
       "    </tr>\n",
       "    <tr>\n",
       "      <th>34</th>\n",
       "      <td>Guest suite</td>\n",
       "      <td>180.815516</td>\n",
       "      <td>-180.815516</td>\n",
       "    </tr>\n",
       "    <tr>\n",
       "      <th>32</th>\n",
       "      <td>Cottage</td>\n",
       "      <td>170.226933</td>\n",
       "      <td>-170.226933</td>\n",
       "    </tr>\n",
       "    <tr>\n",
       "      <th>40</th>\n",
       "      <td>Loft</td>\n",
       "      <td>164.522202</td>\n",
       "      <td>-164.522202</td>\n",
       "    </tr>\n",
       "    <tr>\n",
       "      <th>42</th>\n",
       "      <td>Resort</td>\n",
       "      <td>155.682434</td>\n",
       "      <td>-155.682434</td>\n",
       "    </tr>\n",
       "    <tr>\n",
       "      <th>46</th>\n",
       "      <td>Private room</td>\n",
       "      <td>150.682434</td>\n",
       "      <td>-150.682434</td>\n",
       "    </tr>\n",
       "    <tr>\n",
       "      <th>35</th>\n",
       "      <td>Guesthouse</td>\n",
       "      <td>144.321981</td>\n",
       "      <td>-144.321981</td>\n",
       "    </tr>\n",
       "    <tr>\n",
       "      <th>29</th>\n",
       "      <td>Bungalow</td>\n",
       "      <td>143.581533</td>\n",
       "      <td>143.581533</td>\n",
       "    </tr>\n",
       "    <tr>\n",
       "      <th>41</th>\n",
       "      <td>Other</td>\n",
       "      <td>129.587164</td>\n",
       "      <td>-129.587164</td>\n",
       "    </tr>\n",
       "    <tr>\n",
       "      <th>36</th>\n",
       "      <td>Hostel</td>\n",
       "      <td>129.409460</td>\n",
       "      <td>-129.409460</td>\n",
       "    </tr>\n",
       "    <tr>\n",
       "      <th>24</th>\n",
       "      <td>Apartment</td>\n",
       "      <td>119.119927</td>\n",
       "      <td>-119.119927</td>\n",
       "    </tr>\n",
       "    <tr>\n",
       "      <th>10</th>\n",
       "      <td>Hyde Park</td>\n",
       "      <td>105.078532</td>\n",
       "      <td>-105.078532</td>\n",
       "    </tr>\n",
       "    <tr>\n",
       "      <th>25</th>\n",
       "      <td>Barn</td>\n",
       "      <td>104.226933</td>\n",
       "      <td>-104.226933</td>\n",
       "    </tr>\n",
       "    <tr>\n",
       "      <th>38</th>\n",
       "      <td>House</td>\n",
       "      <td>95.899436</td>\n",
       "      <td>-95.899436</td>\n",
       "    </tr>\n",
       "    <tr>\n",
       "      <th>23</th>\n",
       "      <td>West Roxbury</td>\n",
       "      <td>95.671804</td>\n",
       "      <td>-95.671804</td>\n",
       "    </tr>\n",
       "    <tr>\n",
       "      <th>14</th>\n",
       "      <td>Mattapan</td>\n",
       "      <td>94.773834</td>\n",
       "      <td>-94.773834</td>\n",
       "    </tr>\n",
       "    <tr>\n",
       "      <th>17</th>\n",
       "      <td>Roslindale</td>\n",
       "      <td>93.048691</td>\n",
       "      <td>-93.048691</td>\n",
       "    </tr>\n",
       "    <tr>\n",
       "      <th>39</th>\n",
       "      <td>Houseboat</td>\n",
       "      <td>91.835216</td>\n",
       "      <td>-91.835216</td>\n",
       "    </tr>\n",
       "    <tr>\n",
       "      <th>31</th>\n",
       "      <td>Condominium</td>\n",
       "      <td>89.894912</td>\n",
       "      <td>-89.894912</td>\n",
       "    </tr>\n",
       "    <tr>\n",
       "      <th>37</th>\n",
       "      <td>Hotel</td>\n",
       "      <td>88.769948</td>\n",
       "      <td>-88.769948</td>\n",
       "    </tr>\n",
       "    <tr>\n",
       "      <th>22</th>\n",
       "      <td>West End</td>\n",
       "      <td>79.063024</td>\n",
       "      <td>79.063024</td>\n",
       "    </tr>\n",
       "    <tr>\n",
       "      <th>44</th>\n",
       "      <td>Townhouse</td>\n",
       "      <td>76.834456</td>\n",
       "      <td>-76.834456</td>\n",
       "    </tr>\n",
       "    <tr>\n",
       "      <th>8</th>\n",
       "      <td>East Boston</td>\n",
       "      <td>75.999223</td>\n",
       "      <td>-75.999223</td>\n",
       "    </tr>\n",
       "    <tr>\n",
       "      <th>3</th>\n",
       "      <td>Brighton</td>\n",
       "      <td>75.661397</td>\n",
       "      <td>-75.661397</td>\n",
       "    </tr>\n",
       "    <tr>\n",
       "      <th>13</th>\n",
       "      <td>Longwood Medical Area</td>\n",
       "      <td>74.375258</td>\n",
       "      <td>-74.375258</td>\n",
       "    </tr>\n",
       "    <tr>\n",
       "      <th>20</th>\n",
       "      <td>South Boston Waterfront</td>\n",
       "      <td>66.968035</td>\n",
       "      <td>66.968035</td>\n",
       "    </tr>\n",
       "    <tr>\n",
       "      <th>16</th>\n",
       "      <td>North End</td>\n",
       "      <td>65.963805</td>\n",
       "      <td>-65.963805</td>\n",
       "    </tr>\n",
       "  </tbody>\n",
       "</table>\n",
       "</div>"
      ],
      "text/plain": [
       "                    feature    abs_coeff        coeff\n",
       "28           Boutique hotel  2781.403241  2781.403241\n",
       "12         Leather District  1192.152054  1192.152054\n",
       "33                Farm stay   250.000000   250.000000\n",
       "47              Shared room   195.509190  -195.509190\n",
       "34              Guest suite   180.815516  -180.815516\n",
       "32                  Cottage   170.226933  -170.226933\n",
       "40                     Loft   164.522202  -164.522202\n",
       "42                   Resort   155.682434  -155.682434\n",
       "46             Private room   150.682434  -150.682434\n",
       "35               Guesthouse   144.321981  -144.321981\n",
       "29                 Bungalow   143.581533   143.581533\n",
       "41                    Other   129.587164  -129.587164\n",
       "36                   Hostel   129.409460  -129.409460\n",
       "24                Apartment   119.119927  -119.119927\n",
       "10                Hyde Park   105.078532  -105.078532\n",
       "25                     Barn   104.226933  -104.226933\n",
       "38                    House    95.899436   -95.899436\n",
       "23             West Roxbury    95.671804   -95.671804\n",
       "14                 Mattapan    94.773834   -94.773834\n",
       "17               Roslindale    93.048691   -93.048691\n",
       "39                Houseboat    91.835216   -91.835216\n",
       "31              Condominium    89.894912   -89.894912\n",
       "37                    Hotel    88.769948   -88.769948\n",
       "22                 West End    79.063024    79.063024\n",
       "44                Townhouse    76.834456   -76.834456\n",
       "8               East Boston    75.999223   -75.999223\n",
       "3                  Brighton    75.661397   -75.661397\n",
       "13    Longwood Medical Area    74.375258   -74.375258\n",
       "20  South Boston Waterfront    66.968035    66.968035\n",
       "16                North End    65.963805   -65.963805"
      ]
     },
     "execution_count": 433,
     "metadata": {},
     "output_type": "execute_result"
    }
   ],
   "source": [
    "#we need to know which features affect the price most\n",
    "df_coef=pd.DataFrame()\n",
    "df_coef['feature']=X_train.columns\n",
    "df_coef['abs_coeff']=np.abs(Boston_model.coef_)\n",
    "df_coef['coeff']=Boston_model.coef_\n",
    "df_coef.sort_values('abs_coeff', ascending=False).head(30)\n",
    "\n"
   ]
  },
  {
   "cell_type": "markdown",
   "metadata": {},
   "source": [
    "**It is clear from the above that the host property is highly affect the price**"
   ]
  },
  {
   "cell_type": "markdown",
   "metadata": {},
   "source": [
    "**Our last question what about customer experience**"
   ]
  },
  {
   "cell_type": "code",
   "execution_count": 434,
   "metadata": {},
   "outputs": [
    {
     "data": {
      "text/plain": [
       "'The r-squared score for your model was 0.6866562157997989 on 1880 values.'"
      ]
     },
     "execution_count": 434,
     "metadata": {},
     "output_type": "execute_result"
    }
   ],
   "source": [
    "#Lets Check the most isuue impact customer experience\n",
    "#Split into train and test\n",
    "X_rev=df_listings[review_Features].drop(['review_scores_rating'],axis=1)\n",
    "Y_rev=df_listings['review_scores_rating']\n",
    "\n",
    "X_train, X_test, Y_train, Y_test = train_test_split(X_rev, Y_rev, test_size = .30, random_state=42) \n",
    "\n",
    "Boston_model_r = LinearRegression(normalize=True) # Instantiate\n",
    "Boston_model_r.fit(X_train, Y_train) #Fit\n",
    "        \n",
    "#Predict and score the model\n",
    "Boston_model_Y_preds = Boston_model_r.predict(X_test) \n",
    "\"The r-squared score for your model was {} on {} values.\".format(r2_score(Y_test, Boston_model_Y_preds), len(Y_test))"
   ]
  },
  {
   "cell_type": "code",
   "execution_count": 441,
   "metadata": {},
   "outputs": [],
   "source": [
    "#we need to know which features affect the price most\n",
    "df_coef_r=pd.DataFrame()\n",
    "df_coef_r['feature']=X_train.columns\n",
    "df_coef_r['abscoeff']=np.abs(Boston_model_r.coef_)\n",
    "df_coef_r['coeff']=Boston_model_r.coef_\n",
    "df_coef_r_sort=df_coef_r.sort_values('abscoeff', ascending=False)\n"
   ]
  },
  {
   "cell_type": "code",
   "execution_count": 447,
   "metadata": {},
   "outputs": [
    {
     "data": {
      "text/html": [
       "<div>\n",
       "<style scoped>\n",
       "    .dataframe tbody tr th:only-of-type {\n",
       "        vertical-align: middle;\n",
       "    }\n",
       "\n",
       "    .dataframe tbody tr th {\n",
       "        vertical-align: top;\n",
       "    }\n",
       "\n",
       "    .dataframe thead th {\n",
       "        text-align: right;\n",
       "    }\n",
       "</style>\n",
       "<table border=\"1\" class=\"dataframe\">\n",
       "  <thead>\n",
       "    <tr style=\"text-align: right;\">\n",
       "      <th></th>\n",
       "      <th>feature</th>\n",
       "      <th>abscoeff</th>\n",
       "      <th>coeff</th>\n",
       "    </tr>\n",
       "  </thead>\n",
       "  <tbody>\n",
       "    <tr>\n",
       "      <th>6</th>\n",
       "      <td>review_scores_value</td>\n",
       "      <td>3.012653</td>\n",
       "      <td>3.012653</td>\n",
       "    </tr>\n",
       "    <tr>\n",
       "      <th>1</th>\n",
       "      <td>review_scores_accuracy</td>\n",
       "      <td>2.829152</td>\n",
       "      <td>2.829152</td>\n",
       "    </tr>\n",
       "    <tr>\n",
       "      <th>2</th>\n",
       "      <td>review_scores_cleanliness</td>\n",
       "      <td>2.267741</td>\n",
       "      <td>2.267741</td>\n",
       "    </tr>\n",
       "    <tr>\n",
       "      <th>4</th>\n",
       "      <td>review_scores_communication</td>\n",
       "      <td>2.046139</td>\n",
       "      <td>2.046139</td>\n",
       "    </tr>\n",
       "    <tr>\n",
       "      <th>5</th>\n",
       "      <td>review_scores_location</td>\n",
       "      <td>0.173347</td>\n",
       "      <td>0.173347</td>\n",
       "    </tr>\n",
       "    <tr>\n",
       "      <th>3</th>\n",
       "      <td>review_scores_checkin</td>\n",
       "      <td>0.168746</td>\n",
       "      <td>0.168746</td>\n",
       "    </tr>\n",
       "    <tr>\n",
       "      <th>0</th>\n",
       "      <td>number_of_reviews</td>\n",
       "      <td>0.001983</td>\n",
       "      <td>-0.001983</td>\n",
       "    </tr>\n",
       "  </tbody>\n",
       "</table>\n",
       "</div>"
      ],
      "text/plain": [
       "                       feature  abscoeff     coeff\n",
       "6          review_scores_value  3.012653  3.012653\n",
       "1       review_scores_accuracy  2.829152  2.829152\n",
       "2    review_scores_cleanliness  2.267741  2.267741\n",
       "4  review_scores_communication  2.046139  2.046139\n",
       "5       review_scores_location  0.173347  0.173347\n",
       "3        review_scores_checkin  0.168746  0.168746\n",
       "0            number_of_reviews  0.001983 -0.001983"
      ]
     },
     "execution_count": 447,
     "metadata": {},
     "output_type": "execute_result"
    }
   ],
   "source": [
    "df_coef_r_sort.head(7)"
   ]
  },
  {
   "cell_type": "code",
   "execution_count": 448,
   "metadata": {},
   "outputs": [
    {
     "data": {
      "image/png": "[encoded data removed]",
      "text/plain": [
       "<Figure size 432x288 with 1 Axes>"
      ]
     },
     "metadata": {},
     "output_type": "display_data"
    }
   ],
   "source": [
    "plt.rcParams.update({'font.size': 10})\n",
    "x, y = plt.pie(df_coef_r['abscoeff'], labels=df_coef_r['feature'], shadow=True, startangle=140)\n",
    "\n",
    "\n",
    "\n",
    "plt.show()"
   ]
  },
  {
   "cell_type": "markdown",
   "metadata": {},
   "source": [
    "**from the above chart we can conclude that the Accuracy / Cleanliness and communication has great influence on the customers unlike the location /checkin and number of reviews**"
   ]
  },
  {
   "cell_type": "code",
   "execution_count": null,
   "metadata": {},
   "outputs": [],
   "source": []
  }
 ],
 "metadata": {
  "kernelspec": {
   "display_name": "Python 3",
   "language": "python",
   "name": "python3"
  },
  "language_info": {
   "codemirror_mode": {
    "name": "ipython",
    "version": 3
   },
   "file_extension": ".py",
   "mimetype": "text/x-python",
   "name": "python",
   "nbconvert_exporter": "python",
   "pygments_lexer": "ipython3",
   "version": "3.7.3"
  }
 },
 "nbformat": 4,
 "nbformat_minor": 2
}
